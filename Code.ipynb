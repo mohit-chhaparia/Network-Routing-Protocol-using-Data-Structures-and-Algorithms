{
 "cells": [
  {
   "cell_type": "code",
   "execution_count": null,
   "id": "18f1efda",
   "metadata": {},
   "outputs": [],
   "source": [
    "# Graph Generation\n",
    "from networkx.generators.random_graphs import erdos_renyi_graph\n",
    "\n",
    "import numpy as np\n",
    "from numpy import random\n",
    "import psutil\n",
    "import os\n",
    "from dask import delayed\n",
    "\n",
    "# Printing everything\n",
    "from IPython.core.interactiveshell import InteractiveShell\n",
    "InteractiveShell.ast_node_interactivity = \"all\""
   ]
  },
  {
   "cell_type": "code",
   "execution_count": null,
   "id": "875c9143",
   "metadata": {},
   "outputs": [],
   "source": [
    "# Number of vertices\n",
    "n = 5000 \n",
    "\n",
    "# Threshold probability to select an edge, so that we get a graph with approximately 15000 edges.\n",
    "p1 = 0.0012\n",
    "\n",
    "# Threshold probability to select an edge, so that we get a graph with approximately 2500000 edges.\n",
    "p2 = 0.2\n",
    "\n",
    "# Generating Graph 1\n",
    "g1 = erdos_renyi_graph(n, p1)\n",
    "\n",
    "# Generating Graph 2\n",
    "g2 = erdos_renyi_graph(n, p2)"
   ]
  },
  {
   "cell_type": "code",
   "execution_count": null,
   "id": "2a4b8b03",
   "metadata": {},
   "outputs": [],
   "source": [
    "# Nodes of Graph 1\n",
    "print(g1.nodes)"
   ]
  },
  {
   "cell_type": "code",
   "execution_count": null,
   "id": "9b46d128",
   "metadata": {},
   "outputs": [],
   "source": [
    "# Edges of Graph 1\n",
    "print(g1.edges)"
   ]
  },
  {
   "cell_type": "code",
   "execution_count": null,
   "id": "de8b0f3d",
   "metadata": {},
   "outputs": [],
   "source": [
    "# Number of nodes in Graph 1\n",
    "len(g1.nodes)"
   ]
  },
  {
   "cell_type": "code",
   "execution_count": null,
   "id": "d706b6ae",
   "metadata": {},
   "outputs": [],
   "source": [
    "# Number of edges in Graph 1\n",
    "len(g1.edges)"
   ]
  },
  {
   "cell_type": "code",
   "execution_count": null,
   "id": "a93ba1ba",
   "metadata": {},
   "outputs": [],
   "source": [
    "# Array containing edge weights for Graph 1\n",
    "wts1 = random.randint(low = 1, high = 101, size = len(g1.edges))"
   ]
  },
  {
   "cell_type": "code",
   "execution_count": null,
   "id": "e471073a",
   "metadata": {},
   "outputs": [],
   "source": [
    "# Edge weights of Graph 1\n",
    "wts1"
   ]
  },
  {
   "cell_type": "code",
   "execution_count": null,
   "id": "5fb522d5",
   "metadata": {},
   "outputs": [],
   "source": [
    "# Length of array containing edge weights of Graph 1\n",
    "len(wts1)"
   ]
  },
  {
   "cell_type": "code",
   "execution_count": null,
   "id": "bd23658f",
   "metadata": {},
   "outputs": [],
   "source": [
    "# Nodes of Graph 2\n",
    "print(g2.nodes)"
   ]
  },
  {
   "cell_type": "code",
   "execution_count": null,
   "id": "48490799",
   "metadata": {},
   "outputs": [],
   "source": [
    "# Edges of Graph 2\n",
    "print(g2.edges)"
   ]
  },
  {
   "cell_type": "code",
   "execution_count": null,
   "id": "ad9d5343",
   "metadata": {},
   "outputs": [],
   "source": [
    "# Number of nodes in Graph 2\n",
    "len(g2.nodes)"
   ]
  },
  {
   "cell_type": "code",
   "execution_count": null,
   "id": "c7caeda5",
   "metadata": {},
   "outputs": [],
   "source": [
    "# Number of edges in Graph 2\n",
    "len(g2.edges)"
   ]
  },
  {
   "cell_type": "code",
   "execution_count": null,
   "id": "11367216",
   "metadata": {},
   "outputs": [],
   "source": [
    "# Array containing edge weights for Graph 2\n",
    "wts2 = random.randint(low = 1, high = 101, size = len(g2.edges))"
   ]
  },
  {
   "cell_type": "code",
   "execution_count": null,
   "id": "8e4023c9",
   "metadata": {},
   "outputs": [],
   "source": [
    "# Edge weights of Graph 2\n",
    "wts2"
   ]
  },
  {
   "cell_type": "code",
   "execution_count": null,
   "id": "84438a33",
   "metadata": {},
   "outputs": [],
   "source": [
    "# Length of array containing edge weights of Graph 2\n",
    "len(wts2)"
   ]
  },
  {
   "cell_type": "code",
   "execution_count": null,
   "id": "6d9774d1",
   "metadata": {},
   "outputs": [],
   "source": [
    "# To generate MaxHeap and to sort the array\n",
    "\n",
    "def HeapBuild(arr = [], num = 0, i = 0):\n",
    "    largest = i  # Initialize largest as root\n",
    "    left = (2 * i) + 1     # The left child\n",
    "    right = (2 * i) + 2     # The right child\n",
    "    \n",
    " \n",
    "    # Check if left child is greater than root if it exists\n",
    "    if ((left < num) and (arr[largest] < arr[left])):\n",
    "        largest = left\n",
    " \n",
    "    # Check if right child is greater than root if it exists\n",
    "    if ((right < num) and (arr[largest] < arr[right])):\n",
    "        largest = right\n",
    " \n",
    "    # If root wasn't the largest then swap and recall the function to verify\n",
    "    if (largest != i):\n",
    "        # Swap value at index i with the value at index largest\n",
    "        arr[i], arr[largest] = arr[largest], arr[i]\n",
    "        HeapBuild(arr, num, largest)\n",
    " \n",
    "\n",
    "\n",
    "def MaxHeap(arr = []):\n",
    "    \n",
    "    # Build a MaxHeap.\n",
    "    # Loop from half the length of the original array to 0 (-1) with a decrement of 1\n",
    "    for i in range(int(len(arr)/2) - 1, -1, -1):\n",
    "        HeapBuild(arr, len(arr), i)\n",
    "    print(\"The max heap is: \")\n",
    "    print(arr)\n",
    "    arr1 = [0]*len(arr)\n",
    "    for i in range(len(arr)):\n",
    "        arr1[i] = arr[i]\n",
    " \n",
    "    # Sort the Array\n",
    "    for i in range(len(arr) - 1, 0, -1):\n",
    "        arr1[i], arr1[0] = arr1[0], arr1[i]  # swap\n",
    "        HeapBuild(arr1, i, 0)\n",
    "    print(\"\\n\\nSorted array is: \")\n",
    "    print(arr1)\n",
    "    return arr, arr1\n",
    " \n",
    " \n",
    "print(\"For Graph 1: \")\n",
    "arrg1 = np.array(g1.nodes)\n",
    "arrmxhpg1, arr1g1 = MaxHeap(arrg1)\n",
    "print(\"\\n\\nEdges for Graph 1 are: \", g1.edges)\n",
    "\n",
    "print(\"\\n\\n\\n\\nFor Graph 2: \")\n",
    "arrg2 = np.array(g2.nodes)\n",
    "arrmxhpg2, arr2g2 = MaxHeap(arrg2)\n",
    "print(\"\\n\\nEdges for Graph 2 are: \", g2.edges)"
   ]
  },
  {
   "cell_type": "code",
   "execution_count": null,
   "id": "1c1cc1e0",
   "metadata": {},
   "outputs": [],
   "source": [
    "# Insert in MaxHeap\n",
    "def insert(self, data):\n",
    "    if self:\n",
    "        if data.any() < self:\n",
    "            if self is None:\n",
    "               self = Node(data)\n",
    "        elif data > self:\n",
    "            if self is None:\n",
    "                  self = Node(data)\n",
    "        else:\n",
    "            self = data\n",
    "    MaxHeap(data)"
   ]
  },
  {
   "cell_type": "code",
   "execution_count": null,
   "id": "0b8fd0af",
   "metadata": {},
   "outputs": [],
   "source": [
    "# Search in MaxHeap\n",
    "index = []\n",
    "flag = 0\n",
    "def search(arr = [], val = 0, i = 0):\n",
    "    if i >= 5000:\n",
    "        return\n",
    "    elif arr[i] == val:\n",
    "        print(\"Number found on index \" + str(i))\n",
    "        index.append(i)\n",
    "    elif arr[i] > val:\n",
    "        if (2*i+1>=5000):\n",
    "            return\n",
    "        elif arr[2 * i + 1] == val:\n",
    "            print(\"Number found on index \" + str(2 * i + 1))\n",
    "            index.append(2*i+1)\n",
    "        else: search(arr, val, 2 * i + 1)\n",
    "        \n",
    "        if (2*i+2>=5000):\n",
    "            return\n",
    "        elif arr[2 * i + 2] == val:\n",
    "            print(\"Number found on index \" + str(2 * i + 2))\n",
    "            index.append(2*i+2)\n",
    "        else: search(arr, val, 2 * i + 2)"
   ]
  },
  {
   "cell_type": "code",
   "execution_count": null,
   "id": "7682ebb6",
   "metadata": {
    "scrolled": false
   },
   "outputs": [],
   "source": [
    "# For Graph 1:\n",
    "a = search(arrmxhpg1, val = 2573, i = 0)\n",
    "print(index[flag])\n",
    "flag += 1\n",
    "# For Graph 2:\n",
    "b = search(arrmxhpg2, val = 2857, i = 0)\n",
    "print(index[flag])\n",
    "flag += 1"
   ]
  },
  {
   "cell_type": "code",
   "execution_count": null,
   "id": "35dc8bb1",
   "metadata": {},
   "outputs": [],
   "source": [
    "# Delete from MaxHeap\n",
    "def Delete(arr = [], val = 0):\n",
    "    search(arr, val, 0)\n",
    "    if index[flag] != None:\n",
    "        #del arr[index[flag]]\n",
    "        np.delete(arr, index[flag])\n",
    "        MaxHeap(arr)\n",
    "    print(arr[index[flag]])"
   ]
  },
  {
   "cell_type": "code",
   "execution_count": null,
   "id": "dd822680",
   "metadata": {},
   "outputs": [],
   "source": [
    "# Maximum Value of the Heap\n",
    "def Maximum(arr = []):\n",
    "    return arr[0]"
   ]
  },
  {
   "cell_type": "code",
   "execution_count": null,
   "id": "bf9a3a31",
   "metadata": {},
   "outputs": [],
   "source": [
    "# Dijkstra's Algorithm without Heap\n",
    "def DijkWOHeap(s, t):\n",
    "    for v in range(n):\n",
    "        status[v] = \"unseen\"\n",
    "    status[s] = \"in-tree\"\n",
    "    m = 0\n",
    "    for i in g1.edges:\n",
    "        status[i[1]] = \"fringe\"\n",
    "        dad[i[1]] = s\n",
    "        bw[i[1]] = wts1[m]\n",
    "        m += 1\n",
    "    j = 0\n",
    "    for i in status:\n",
    "        if i == \"fringe\":\n",
    "            b.append(bw[j])\n",
    "        j += 1\n",
    "    k = 0\n",
    "    while status in (\"fringe\"):\n",
    "        if status[k] == \"fringe\" and bw[k] == max(b):\n",
    "            status[k] = \"in-tree\"\n",
    "            np.delete(b, np.where(max(b)))\n",
    "        k += 1\n",
    "    m = 0\n",
    "    for i in g1.edges:\n",
    "        if(i == \"unseen\"):\n",
    "            status[i[1]] == \"fringe\"\n",
    "            bw[i[1]] = min(bw[i[0]], wts1[np.where(g1.edges == i)])\n",
    "            dad[i[1]] = i[0]\n",
    "        elif (status[i[1]] == \"fringe\") and (bw[i[1]] < min(bw[i[0]], wts1[np.where(g1.edges == i)])):\n",
    "            bw[i[1]] = min(bw[i[0]], wts1[np.where(g1.edges == i)])\n",
    "            dad[i[1]] = i[0]\n",
    "    if (status[t] != \"in-tree\"):\n",
    "        return \"no s-t path\"\n",
    "    else:\n",
    "        x = t\n",
    "        print(x)\n",
    "        while (x != s):\n",
    "            print(x)\n",
    "            x = dad[x]\n",
    "            \n"
   ]
  },
  {
   "cell_type": "code",
   "execution_count": null,
   "id": "eb20e5f6",
   "metadata": {},
   "outputs": [],
   "source": [
    "# Dijkstra's Algorithm with Heap\n",
    "def DijkWHeap(s, t):\n",
    "    for v in range(n):\n",
    "        status[v] = \"unseen\"\n",
    "    status[s] = \"in-tree\"\n",
    "    F = []\n",
    "    for i in g1.egdes:\n",
    "        status[i[1]] = \"fringe\"\n",
    "        dad[i[1]] = i[0]\n",
    "        bw[i[1]] = wts1[np.where(g1.edges == i)]\n",
    "        insert(i[1], F)\n",
    "    while status in (\"fringe\"):\n",
    "        v = np.max(F)\n",
    "        status[v] = \"in-tree\"\n",
    "        Delete(F, v)\n",
    "    for i in g1.edges:\n",
    "        if (status[i[1]] == \"unseen\"):\n",
    "            status[i[1]] = \"fringe\"\n",
    "            bw[i[1]] = min(bw[i[0]], wts1[np.where(g1.edges == i)])\n",
    "            dad[i[1]] = i[0]\n",
    "            insert(i[1], F)\n",
    "        elif (status[i[1]] == \"fringe\") and (bw[i[1]] < min(bw[i[0]], wts1[np.where(g1.edges == i)])):\n",
    "            Delete(F, i[1])\n",
    "            bw[i[1]] = min(bw[i[0]], wts1[np.where(g1.edges == i)])\n",
    "            insert(i[1], F)\n",
    "            dad[i[1]] = i[0]\n",
    "    if (status[t] != \"in-tree\"):\n",
    "        return \"no s-t path\"\n",
    "    else:\n",
    "        x = t\n",
    "        print(x)\n",
    "        while (x != s):\n",
    "            print(x)\n",
    "            x = dad[x]"
   ]
  },
  {
   "cell_type": "code",
   "execution_count": null,
   "id": "9b025913",
   "metadata": {},
   "outputs": [],
   "source": [
    "# Array defining height of various nodes\n",
    "h = []\n",
    "for i in range(5000):\n",
    "    if i <= 0:\n",
    "        h.append(1)\n",
    "    elif i < 3:\n",
    "        h.append(2)\n",
    "    elif i < 7:\n",
    "        h.append(3)\n",
    "    elif i < 15:\n",
    "        h.append(4)\n",
    "    elif i < 31:\n",
    "        h.append(5)\n",
    "    elif i < 63:\n",
    "        h.append(6)\n",
    "    elif i < 127:\n",
    "        h.append(7)\n",
    "    elif i < 255:\n",
    "        h.append(8)\n",
    "    elif i < 511:\n",
    "        h.append(9)\n",
    "    elif i < 1023:\n",
    "        h.append(10)\n",
    "    elif i < 2047:\n",
    "        h.append(11)\n",
    "    elif i < 4095:\n",
    "        h.append(12)\n",
    "    else:\n",
    "        h.append(13)"
   ]
  },
  {
   "cell_type": "code",
   "execution_count": null,
   "id": "7237d641",
   "metadata": {},
   "outputs": [],
   "source": [
    "p = np.array(arrmxhpg1)"
   ]
  },
  {
   "cell_type": "code",
   "execution_count": null,
   "id": "d59a4026",
   "metadata": {},
   "outputs": [],
   "source": [
    "# MakeSet for Kruskal's\n",
    "def MakeSet(v):\n",
    "    p[v] = -1\n",
    "    h[v] = 0"
   ]
  },
  {
   "cell_type": "code",
   "execution_count": null,
   "id": "20ce9c87",
   "metadata": {},
   "outputs": [],
   "source": [
    "# Find for Kruskal's\n",
    "def Find(v):\n",
    "    w = v\n",
    "    while (p[w] != -1):\n",
    "        w = p[w]\n",
    "    return w"
   ]
  },
  {
   "cell_type": "code",
   "execution_count": null,
   "id": "257329e9",
   "metadata": {},
   "outputs": [],
   "source": [
    "# Union for Kruskal's\n",
    "def Union(r1, r2):\n",
    "    if(h[r1] > h[r2]):\n",
    "        p[r2] = r1\n",
    "    elif (h[r2] > h[r1]):\n",
    "        p[r1] = r2\n",
    "    else:\n",
    "        p[r2] = r1\n",
    "        h[r1] += 1"
   ]
  },
  {
   "cell_type": "code",
   "execution_count": null,
   "id": "7d2e5a98",
   "metadata": {},
   "outputs": [],
   "source": [
    "# Kruskal's Algorithm\n",
    "def KruskalsMST(n):\n",
    "    for v in range(n):\n",
    "        MakeSet(v)\n",
    "        for k in range(len(g1.edges)):\n",
    "            ek = g1.edges[k]\n",
    "            r1 = Find(ek[0])\n",
    "            r2 = Find(ek[1])\n",
    "            if (r1 != r2):\n",
    "                Union(r1, r2)\n",
    "    print(p)"
   ]
  },
  {
   "cell_type": "code",
   "execution_count": null,
   "id": "94c6b615",
   "metadata": {},
   "outputs": [],
   "source": []
  }
 ],
 "metadata": {
  "kernelspec": {
   "display_name": "Python 3 (ipykernel)",
   "language": "python",
   "name": "python3"
  },
  "language_info": {
   "codemirror_mode": {
    "name": "ipython",
    "version": 3
   },
   "file_extension": ".py",
   "mimetype": "text/x-python",
   "name": "python",
   "nbconvert_exporter": "python",
   "pygments_lexer": "ipython3",
   "version": "3.8.13"
  }
 },
 "nbformat": 4,
 "nbformat_minor": 5
}
